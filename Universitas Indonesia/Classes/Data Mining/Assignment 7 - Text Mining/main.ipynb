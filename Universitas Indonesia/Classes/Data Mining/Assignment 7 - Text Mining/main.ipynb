{
 "cells": [
  {
   "cell_type": "markdown",
   "metadata": {},
   "source": [
    "# Assignment 7 - Text Mining\n",
    "## Data Mining\n",
    "\n",
    "by Ardian - 2106638173\n",
    "\n",
    "April 6th, 2024\n",
    "\n",
    "Information System - Faculty of Computer Science\n",
    "\n",
    "Universitas Indonesia\n",
    "\n",
    "---"
   ]
  },
  {
   "cell_type": "markdown",
   "metadata": {},
   "source": [
    "## Libraries"
   ]
  },
  {
   "cell_type": "code",
   "execution_count": 1,
   "metadata": {},
   "outputs": [
    {
     "name": "stderr",
     "output_type": "stream",
     "text": [
      "/var/folders/df/r0jnfybd0ds0g6kknxpgdxb00000gn/T/ipykernel_41618/2992998267.py:1: DeprecationWarning: \n",
      "Pyarrow will become a required dependency of pandas in the next major release of pandas (pandas 3.0),\n",
      "(to allow more performant data types, such as the Arrow string type, and better interoperability with other libraries)\n",
      "but was not found to be installed on your system.\n",
      "If this would cause problems for you,\n",
      "please provide us feedback at https://github.com/pandas-dev/pandas/issues/54466\n",
      "        \n",
      "  import pandas as pd\n"
     ]
    }
   ],
   "source": [
    "import pandas as pd\n",
    "import string\n",
    "import numpy as np\n",
    "import matplotlib.pyplot as plt\n",
    "from sklearn.decomposition import PCA"
   ]
  },
  {
   "cell_type": "markdown",
   "metadata": {},
   "source": [
    "## Dataset (raw texts)"
   ]
  },
  {
   "cell_type": "code",
   "execution_count": 2,
   "metadata": {},
   "outputs": [
    {
     "data": {
      "text/plain": [
       "['Masyarakat bersiap menyambut Lebaran dengan penuh harap dan kegembiraan.',\n",
       " 'Indonesia menang 3 gol tanpa balas melawan Vietnam.',\n",
       " 'Korupsi timah merugikan negara Indonesia 271 Triliun.',\n",
       " 'Libur lebaran akan dimulai pada tanggal 6 April 2024.',\n",
       " 'Perkembangan teknologi kecerdasan buatan sangat cepat.',\n",
       " 'Saya makan nasi goreng untuk buka puasa.',\n",
       " 'Indonesia berpeluang lolos ke Piala Dunia 2026.']"
      ]
     },
     "execution_count": 2,
     "metadata": {},
     "output_type": "execute_result"
    }
   ],
   "source": [
    "texts = [\n",
    "    \"Masyarakat bersiap menyambut Lebaran dengan penuh harap dan kegembiraan.\",\n",
    "    \"Indonesia menang 3 gol tanpa balas melawan Vietnam.\",\n",
    "    \"Korupsi timah merugikan negara Indonesia 271 Triliun.\",\n",
    "    \"Libur lebaran akan dimulai pada tanggal 6 April 2024.\",\n",
    "    \"Perkembangan teknologi kecerdasan buatan sangat cepat.\",\n",
    "    \"Saya makan nasi goreng untuk buka puasa.\",\n",
    "    \"Indonesia berpeluang lolos ke Piala Dunia 2026.\"\n",
    "]\n",
    "\n",
    "texts"
   ]
  },
  {
   "cell_type": "markdown",
   "metadata": {},
   "source": [
    "## Text Pre-processing"
   ]
  },
  {
   "cell_type": "markdown",
   "metadata": {},
   "source": [
    "### Lowercase the texts:"
   ]
  },
  {
   "cell_type": "code",
   "execution_count": 3,
   "metadata": {},
   "outputs": [
    {
     "data": {
      "text/plain": [
       "['masyarakat bersiap menyambut lebaran dengan penuh harap dan kegembiraan.',\n",
       " 'indonesia menang 3 gol tanpa balas melawan vietnam.',\n",
       " 'korupsi timah merugikan negara indonesia 271 triliun.',\n",
       " 'libur lebaran akan dimulai pada tanggal 6 april 2024.',\n",
       " 'perkembangan teknologi kecerdasan buatan sangat cepat.',\n",
       " 'saya makan nasi goreng untuk buka puasa.',\n",
       " 'indonesia berpeluang lolos ke piala dunia 2026.']"
      ]
     },
     "execution_count": 3,
     "metadata": {},
     "output_type": "execute_result"
    }
   ],
   "source": [
    "texts_lowered = []\n",
    "for text in texts:\n",
    "    texts_lowered.append(text.lower())\n",
    "\n",
    "texts_lowered"
   ]
  },
  {
   "cell_type": "markdown",
   "metadata": {},
   "source": [
    "### Remove punctuations:"
   ]
  },
  {
   "cell_type": "code",
   "execution_count": 4,
   "metadata": {},
   "outputs": [
    {
     "data": {
      "text/plain": [
       "['masyarakat bersiap menyambut lebaran dengan penuh harap dan kegembiraan',\n",
       " 'indonesia menang 3 gol tanpa balas melawan vietnam',\n",
       " 'korupsi timah merugikan negara indonesia 271 triliun',\n",
       " 'libur lebaran akan dimulai pada tanggal 6 april 2024',\n",
       " 'perkembangan teknologi kecerdasan buatan sangat cepat',\n",
       " 'saya makan nasi goreng untuk buka puasa',\n",
       " 'indonesia berpeluang lolos ke piala dunia 2026']"
      ]
     },
     "execution_count": 4,
     "metadata": {},
     "output_type": "execute_result"
    }
   ],
   "source": [
    "texts_nopunctuation = []\n",
    "for text in texts_lowered:\n",
    "    text_nopunctuation = ''.join(char for char in text if char not in set(string.punctuation))\n",
    "    texts_nopunctuation.append(text_nopunctuation)\n",
    "\n",
    "texts_nopunctuation"
   ]
  },
  {
   "cell_type": "markdown",
   "metadata": {},
   "source": [
    "### Remove stop words:"
   ]
  },
  {
   "cell_type": "code",
   "execution_count": 5,
   "metadata": {},
   "outputs": [
    {
     "data": {
      "text/plain": [
       "['masyarakat menyambut lebaran penuh harap kegembiraan',\n",
       " 'indonesia menang 3 gol balas melawan vietnam',\n",
       " 'korupsi timah merugikan negara indonesia 271 triliun',\n",
       " 'libur lebaran tanggal 6 april 2024',\n",
       " 'perkembangan teknologi kecerdasan buatan cepat',\n",
       " 'makan nasi goreng buka puasa',\n",
       " 'indonesia berpeluang lolos piala dunia 2026']"
      ]
     },
     "execution_count": 5,
     "metadata": {},
     "output_type": "execute_result"
    }
   ],
   "source": [
    "stopwords_file = \"stop-words_bahasa.txt\"\n",
    "stopwords = []\n",
    "with open(stopwords_file, \"r\", encoding=\"utf-8\") as f:\n",
    "    for word in f:\n",
    "        stopwords.append(word.strip())\n",
    "\n",
    "texts_nostopwords = []\n",
    "for text in texts_nopunctuation:\n",
    "    filtered_text = ' '.join(word for word in text.split() if word not in stopwords)\n",
    "    texts_nostopwords.append(filtered_text)\n",
    "\n",
    "texts_nostopwords"
   ]
  },
  {
   "cell_type": "markdown",
   "metadata": {},
   "source": [
    "> Saya tidak menghilangkan angka dan menyederhanakan kata ke bentuk dasarnya (stem) untuk mempertahankan informasi kalimat-kalimat, mumpung hanya 7 kalimat."
   ]
  },
  {
   "cell_type": "markdown",
   "metadata": {},
   "source": [
    "## TF-IDF"
   ]
  },
  {
   "cell_type": "markdown",
   "metadata": {},
   "source": [
    "### Tokenize the texts:"
   ]
  },
  {
   "cell_type": "code",
   "execution_count": 6,
   "metadata": {},
   "outputs": [],
   "source": [
    "tokenized_texts = []\n",
    "for text in texts_nostopwords:\n",
    "    tokenized_texts.append(text.lower().split())\n",
    "\n",
    "vocabularies = set()\n",
    "for text in tokenized_texts:\n",
    "    for word in text:\n",
    "        vocabularies.add(word)\n",
    "vocabularies = list(vocabularies)"
   ]
  },
  {
   "cell_type": "markdown",
   "metadata": {},
   "source": [
    "### Calculate TFI-DF:"
   ]
  },
  {
   "cell_type": "code",
   "execution_count": 7,
   "metadata": {},
   "outputs": [
    {
     "data": {
      "image/png": "[encoded data removed]",
      "text/plain": [
       "<Figure size 800x600 with 1 Axes>"
      ]
     },
     "metadata": {},
     "output_type": "display_data"
    },
    {
     "data": {
      "text/html": [
       "<div>\n",
       "<style scoped>\n",
       "    .dataframe tbody tr th:only-of-type {\n",
       "        vertical-align: middle;\n",
       "    }\n",
       "\n",
       "    .dataframe tbody tr th {\n",
       "        vertical-align: top;\n",
       "    }\n",
       "\n",
       "    .dataframe thead th {\n",
       "        text-align: right;\n",
       "    }\n",
       "</style>\n",
       "<table border=\"1\" class=\"dataframe\">\n",
       "  <thead>\n",
       "    <tr style=\"text-align: right;\">\n",
       "      <th></th>\n",
       "      <th>3</th>\n",
       "      <th>negara</th>\n",
       "      <th>dunia</th>\n",
       "      <th>makan</th>\n",
       "      <th>indonesia</th>\n",
       "      <th>penuh</th>\n",
       "      <th>lebaran</th>\n",
       "      <th>vietnam</th>\n",
       "      <th>timah</th>\n",
       "      <th>buatan</th>\n",
       "      <th>...</th>\n",
       "      <th>tanggal</th>\n",
       "      <th>6</th>\n",
       "      <th>april</th>\n",
       "      <th>melawan</th>\n",
       "      <th>271</th>\n",
       "      <th>libur</th>\n",
       "      <th>teknologi</th>\n",
       "      <th>kegembiraan</th>\n",
       "      <th>harap</th>\n",
       "      <th>2024</th>\n",
       "    </tr>\n",
       "  </thead>\n",
       "  <tbody>\n",
       "    <tr>\n",
       "      <th>0</th>\n",
       "      <td>0.000000</td>\n",
       "      <td>0.000000</td>\n",
       "      <td>0.00000</td>\n",
       "      <td>0.00000</td>\n",
       "      <td>0.000000</td>\n",
       "      <td>0.14085</td>\n",
       "      <td>0.090678</td>\n",
       "      <td>0.000000</td>\n",
       "      <td>0.000000</td>\n",
       "      <td>0.00000</td>\n",
       "      <td>...</td>\n",
       "      <td>0.00000</td>\n",
       "      <td>0.00000</td>\n",
       "      <td>0.00000</td>\n",
       "      <td>0.000000</td>\n",
       "      <td>0.000000</td>\n",
       "      <td>0.00000</td>\n",
       "      <td>0.00000</td>\n",
       "      <td>0.14085</td>\n",
       "      <td>0.14085</td>\n",
       "      <td>0.00000</td>\n",
       "    </tr>\n",
       "    <tr>\n",
       "      <th>1</th>\n",
       "      <td>0.120728</td>\n",
       "      <td>0.000000</td>\n",
       "      <td>0.00000</td>\n",
       "      <td>0.00000</td>\n",
       "      <td>0.052568</td>\n",
       "      <td>0.00000</td>\n",
       "      <td>0.000000</td>\n",
       "      <td>0.120728</td>\n",
       "      <td>0.000000</td>\n",
       "      <td>0.00000</td>\n",
       "      <td>...</td>\n",
       "      <td>0.00000</td>\n",
       "      <td>0.00000</td>\n",
       "      <td>0.00000</td>\n",
       "      <td>0.120728</td>\n",
       "      <td>0.000000</td>\n",
       "      <td>0.00000</td>\n",
       "      <td>0.00000</td>\n",
       "      <td>0.00000</td>\n",
       "      <td>0.00000</td>\n",
       "      <td>0.00000</td>\n",
       "    </tr>\n",
       "    <tr>\n",
       "      <th>2</th>\n",
       "      <td>0.000000</td>\n",
       "      <td>0.120728</td>\n",
       "      <td>0.00000</td>\n",
       "      <td>0.00000</td>\n",
       "      <td>0.052568</td>\n",
       "      <td>0.00000</td>\n",
       "      <td>0.000000</td>\n",
       "      <td>0.000000</td>\n",
       "      <td>0.120728</td>\n",
       "      <td>0.00000</td>\n",
       "      <td>...</td>\n",
       "      <td>0.00000</td>\n",
       "      <td>0.00000</td>\n",
       "      <td>0.00000</td>\n",
       "      <td>0.000000</td>\n",
       "      <td>0.120728</td>\n",
       "      <td>0.00000</td>\n",
       "      <td>0.00000</td>\n",
       "      <td>0.00000</td>\n",
       "      <td>0.00000</td>\n",
       "      <td>0.00000</td>\n",
       "    </tr>\n",
       "    <tr>\n",
       "      <th>3</th>\n",
       "      <td>0.000000</td>\n",
       "      <td>0.000000</td>\n",
       "      <td>0.00000</td>\n",
       "      <td>0.00000</td>\n",
       "      <td>0.000000</td>\n",
       "      <td>0.00000</td>\n",
       "      <td>0.090678</td>\n",
       "      <td>0.000000</td>\n",
       "      <td>0.000000</td>\n",
       "      <td>0.00000</td>\n",
       "      <td>...</td>\n",
       "      <td>0.14085</td>\n",
       "      <td>0.14085</td>\n",
       "      <td>0.14085</td>\n",
       "      <td>0.000000</td>\n",
       "      <td>0.000000</td>\n",
       "      <td>0.14085</td>\n",
       "      <td>0.00000</td>\n",
       "      <td>0.00000</td>\n",
       "      <td>0.00000</td>\n",
       "      <td>0.14085</td>\n",
       "    </tr>\n",
       "    <tr>\n",
       "      <th>4</th>\n",
       "      <td>0.000000</td>\n",
       "      <td>0.000000</td>\n",
       "      <td>0.00000</td>\n",
       "      <td>0.00000</td>\n",
       "      <td>0.000000</td>\n",
       "      <td>0.00000</td>\n",
       "      <td>0.000000</td>\n",
       "      <td>0.000000</td>\n",
       "      <td>0.000000</td>\n",
       "      <td>0.16902</td>\n",
       "      <td>...</td>\n",
       "      <td>0.00000</td>\n",
       "      <td>0.00000</td>\n",
       "      <td>0.00000</td>\n",
       "      <td>0.000000</td>\n",
       "      <td>0.000000</td>\n",
       "      <td>0.00000</td>\n",
       "      <td>0.16902</td>\n",
       "      <td>0.00000</td>\n",
       "      <td>0.00000</td>\n",
       "      <td>0.00000</td>\n",
       "    </tr>\n",
       "    <tr>\n",
       "      <th>5</th>\n",
       "      <td>0.000000</td>\n",
       "      <td>0.000000</td>\n",
       "      <td>0.00000</td>\n",
       "      <td>0.16902</td>\n",
       "      <td>0.000000</td>\n",
       "      <td>0.00000</td>\n",
       "      <td>0.000000</td>\n",
       "      <td>0.000000</td>\n",
       "      <td>0.000000</td>\n",
       "      <td>0.00000</td>\n",
       "      <td>...</td>\n",
       "      <td>0.00000</td>\n",
       "      <td>0.00000</td>\n",
       "      <td>0.00000</td>\n",
       "      <td>0.000000</td>\n",
       "      <td>0.000000</td>\n",
       "      <td>0.00000</td>\n",
       "      <td>0.00000</td>\n",
       "      <td>0.00000</td>\n",
       "      <td>0.00000</td>\n",
       "      <td>0.00000</td>\n",
       "    </tr>\n",
       "    <tr>\n",
       "      <th>6</th>\n",
       "      <td>0.000000</td>\n",
       "      <td>0.000000</td>\n",
       "      <td>0.14085</td>\n",
       "      <td>0.00000</td>\n",
       "      <td>0.061329</td>\n",
       "      <td>0.00000</td>\n",
       "      <td>0.000000</td>\n",
       "      <td>0.000000</td>\n",
       "      <td>0.000000</td>\n",
       "      <td>0.00000</td>\n",
       "      <td>...</td>\n",
       "      <td>0.00000</td>\n",
       "      <td>0.00000</td>\n",
       "      <td>0.00000</td>\n",
       "      <td>0.000000</td>\n",
       "      <td>0.000000</td>\n",
       "      <td>0.00000</td>\n",
       "      <td>0.00000</td>\n",
       "      <td>0.00000</td>\n",
       "      <td>0.00000</td>\n",
       "      <td>0.00000</td>\n",
       "    </tr>\n",
       "  </tbody>\n",
       "</table>\n",
       "<p>7 rows × 39 columns</p>\n",
       "</div>"
      ],
      "text/plain": [
       "          3    negara    dunia    makan  indonesia    penuh   lebaran  \\\n",
       "0  0.000000  0.000000  0.00000  0.00000   0.000000  0.14085  0.090678   \n",
       "1  0.120728  0.000000  0.00000  0.00000   0.052568  0.00000  0.000000   \n",
       "2  0.000000  0.120728  0.00000  0.00000   0.052568  0.00000  0.000000   \n",
       "3  0.000000  0.000000  0.00000  0.00000   0.000000  0.00000  0.090678   \n",
       "4  0.000000  0.000000  0.00000  0.00000   0.000000  0.00000  0.000000   \n",
       "5  0.000000  0.000000  0.00000  0.16902   0.000000  0.00000  0.000000   \n",
       "6  0.000000  0.000000  0.14085  0.00000   0.061329  0.00000  0.000000   \n",
       "\n",
       "    vietnam     timah   buatan  ...  tanggal        6    april   melawan  \\\n",
       "0  0.000000  0.000000  0.00000  ...  0.00000  0.00000  0.00000  0.000000   \n",
       "1  0.120728  0.000000  0.00000  ...  0.00000  0.00000  0.00000  0.120728   \n",
       "2  0.000000  0.120728  0.00000  ...  0.00000  0.00000  0.00000  0.000000   \n",
       "3  0.000000  0.000000  0.00000  ...  0.14085  0.14085  0.14085  0.000000   \n",
       "4  0.000000  0.000000  0.16902  ...  0.00000  0.00000  0.00000  0.000000   \n",
       "5  0.000000  0.000000  0.00000  ...  0.00000  0.00000  0.00000  0.000000   \n",
       "6  0.000000  0.000000  0.00000  ...  0.00000  0.00000  0.00000  0.000000   \n",
       "\n",
       "        271    libur  teknologi  kegembiraan    harap     2024  \n",
       "0  0.000000  0.00000    0.00000      0.14085  0.14085  0.00000  \n",
       "1  0.000000  0.00000    0.00000      0.00000  0.00000  0.00000  \n",
       "2  0.120728  0.00000    0.00000      0.00000  0.00000  0.00000  \n",
       "3  0.000000  0.14085    0.00000      0.00000  0.00000  0.14085  \n",
       "4  0.000000  0.00000    0.16902      0.00000  0.00000  0.00000  \n",
       "5  0.000000  0.00000    0.00000      0.00000  0.00000  0.00000  \n",
       "6  0.000000  0.00000    0.00000      0.00000  0.00000  0.00000  \n",
       "\n",
       "[7 rows x 39 columns]"
      ]
     },
     "execution_count": 7,
     "metadata": {},
     "output_type": "execute_result"
    }
   ],
   "source": [
    "# TF:\n",
    "tf = np.zeros((len(texts_nostopwords), len(vocabularies)))\n",
    "for i, text in enumerate(tokenized_texts):\n",
    "    total_terms = len(text)\n",
    "    for j, word in enumerate(vocabularies):\n",
    "        word_count = 0\n",
    "        for token in text:\n",
    "            if token == word:\n",
    "                word_count += 1\n",
    "        tf[i, j] = word_count / total_terms\n",
    "\n",
    "# IDF:\n",
    "idf = np.zeros(len(vocabularies))\n",
    "total_texts = len(texts_nostopwords)\n",
    "for i, term in enumerate(vocabularies):\n",
    "    total_texts_with_term = 0\n",
    "    for text in tokenized_texts:\n",
    "        if term in text:\n",
    "            total_texts_with_term += 1\n",
    "    idf[i] = np.log10(total_texts / total_texts_with_term)\n",
    "\n",
    "# TF-IDF:   \n",
    "tfidf = tf * idf\n",
    "df_tfidf = pd.DataFrame(tfidf, columns=vocabularies)\n",
    "\n",
    "# Data points 2d visualization\n",
    "pca = PCA(n_components=2)\n",
    "tfidf_2d = pca.fit_transform(tfidf)\n",
    "\n",
    "plt.figure(figsize=(8, 6))\n",
    "plt.scatter(tfidf_2d[:, 0], tfidf_2d[:, 1], marker='o', alpha=0.5)\n",
    "plt.title('TF-IDF Matrix 2d Data Points')\n",
    "plt.show()\n",
    "\n",
    "df_tfidf"
   ]
  },
  {
   "cell_type": "markdown",
   "metadata": {},
   "source": [
    "## Text Clustering"
   ]
  },
  {
   "cell_type": "markdown",
   "metadata": {},
   "source": [
    "### Euclidean Distance:"
   ]
  },
  {
   "cell_type": "code",
   "execution_count": 8,
   "metadata": {},
   "outputs": [],
   "source": [
    "def euclidean_distance(point1, point2):\n",
    "    squared_diff = [(x - y) ** 2 for x, y in zip(point1, point2)]\n",
    "    sum_squared_diff = sum(squared_diff)\n",
    "    distance = np.sqrt(sum_squared_diff)\n",
    "    \n",
    "    return distance"
   ]
  },
  {
   "cell_type": "code",
   "execution_count": 9,
   "metadata": {},
   "outputs": [
    {
     "name": "stdout",
     "output_type": "stream",
     "text": [
      "0, 3, 4, 5, 6, (1, 2)\n",
      "\n",
      "4, 5, 6, (1, 2), (0, 3)\n",
      "\n",
      "5, (1, 2), (0, 3), (4, 6)\n",
      "\n",
      "(0, 3), (4, 6), (5, (1, 2))\n",
      "\n",
      "(5, (1, 2)), ((0, 3), (4, 6))\n",
      "\n",
      "((5, (1, 2)), ((0, 3), (4, 6)))\n",
      "\n"
     ]
    }
   ],
   "source": [
    "df = df_tfidf.copy()\n",
    "df.index = df.index.astype(str)\n",
    "\n",
    "while len(df) > 1:\n",
    "    closest_distance = np.inf\n",
    "    similar_pair = None\n",
    "\n",
    "    for index, point in df.iterrows():\n",
    "            for another_index, another_point in df.iterrows():\n",
    "                if index != another_index:\n",
    "                    distance = np.linalg.norm(euclidean_distance(point, another_point))\n",
    "                    if distance < closest_distance:\n",
    "                        closest_distance = distance\n",
    "                        similar_pair = [index, another_index]\n",
    "\n",
    "    merged_point = np.maximum(df.loc[similar_pair[0]], df.loc[similar_pair[1]])\n",
    "    merged_index = f\"({', '.join(similar_pair)})\"\n",
    "\n",
    "    df = df.drop(similar_pair)\n",
    "    df = pd.concat([df, pd.DataFrame([merged_point], index=[merged_index], columns=df.columns)])\n",
    "\n",
    "    print(\", \".join(df.index))\n",
    "    print()"
   ]
  },
  {
   "cell_type": "markdown",
   "metadata": {},
   "source": [
    "> Bagian ini yang memakan waktu dan bikin terlambat😭"
   ]
  },
  {
   "cell_type": "markdown",
   "metadata": {},
   "source": [
    "### Cosine Similarity:"
   ]
  },
  {
   "cell_type": "code",
   "execution_count": 10,
   "metadata": {},
   "outputs": [],
   "source": [
    "def cosine_similarity(vector1, vector2):\n",
    "    dot_product = np.dot(vector1, vector2)\n",
    "    magnitude1 = np.linalg.norm(vector1)\n",
    "    magnitude2 = np.linalg.norm(vector2)\n",
    "    similarity = dot_product / (magnitude1 * magnitude2)\n",
    "    return similarity"
   ]
  },
  {
   "cell_type": "code",
   "execution_count": 13,
   "metadata": {},
   "outputs": [
    {
     "name": "stdout",
     "output_type": "stream",
     "text": [
      "1, 2, 4, 5, 6, (0, 3)\n",
      "\n",
      "2, 4, 5, (0, 3), (1, 6)\n",
      "\n",
      "4, 5, (0, 3), (2, (1, 6))\n",
      "\n",
      "(0, 3), (2, (1, 6)), (4, 5)\n",
      "\n",
      "(4, 5), ((0, 3), (2, (1, 6)))\n",
      "\n",
      "((4, 5), ((0, 3), (2, (1, 6))))\n",
      "\n"
     ]
    }
   ],
   "source": [
    "df = df_tfidf.copy()\n",
    "df.index = df.index.astype(str)\n",
    "\n",
    "while len(df) > 1:\n",
    "    highest_similarity = -np.inf\n",
    "    similar_pair = None\n",
    "\n",
    "    for index, point in df.iterrows():\n",
    "        for another_index, another_point in df.iterrows():\n",
    "            if index != another_index:\n",
    "                similarity = cosine_similarity(point, another_point)\n",
    "                if similarity > highest_similarity:\n",
    "                    highest_similarity = similarity\n",
    "                    similar_pair = [index, another_index]\n",
    "\n",
    "    merged_point = np.maximum(df.loc[similar_pair[0]], df.loc[similar_pair[1]])\n",
    "    merged_index = f\"({', '.join(similar_pair)})\"\n",
    "\n",
    "    df = df.drop(similar_pair)\n",
    "    df = pd.concat([df, pd.DataFrame([merged_point], index=[merged_index], columns=df.columns)])\n",
    "\n",
    "    print(\", \".join(df.index))\n",
    "    print()\n"
   ]
  }
 ],
 "metadata": {
  "kernelspec": {
   "display_name": "data-science_and_ai",
   "language": "python",
   "name": "python3"
  },
  "language_info": {
   "codemirror_mode": {
    "name": "ipython",
    "version": 3
   },
   "file_extension": ".py",
   "mimetype": "text/x-python",
   "name": "python",
   "nbconvert_exporter": "python",
   "pygments_lexer": "ipython3",
   "version": "3.10.13"
  }
 },
 "nbformat": 4,
 "nbformat_minor": 2
}
